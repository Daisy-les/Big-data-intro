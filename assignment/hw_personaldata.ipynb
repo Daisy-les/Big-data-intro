{
 "cells": [
  {
   "cell_type": "code",
   "execution_count": 1,
   "id": "eacb9304-a0f4-4629-ab0f-9ef6391f9c58",
   "metadata": {},
   "outputs": [],
   "source": [
    "from pyspark.sql import SparkSession\n",
    "\n",
    "spark = SparkSession.builder.master('local').appName('udf_age').getOrCreate()"
   ]
  },
  {
   "cell_type": "markdown",
   "id": "47aff898-fe74-4302-91dd-7964a57150ce",
   "metadata": {},
   "source": [
    "[과제: udf 등록 및 SQL 처리]\n",
    "UDF 함수명: age_category(age)\n",
    "- age가 35살 미만: 'young'\n",
    "- age가 35살-59살: 'adult'\n",
    "- age가 60살 이상: 'senior'\n",
    "\n",
    "데이터프레임\n",
    "- 변수: name, age (예: '안현', 39)\n",
    "- 데이터 5개~10개 생성 \n",
    "\n",
    "SQL 출력 결과: name, age_category(age)\n",
    "\n",
    "- 제출 방법: GitHub에 업로드\n",
    "- 제출 기한: 5.24(수)"
   ]
  },
  {
   "cell_type": "code",
   "execution_count": 2,
   "id": "74889e8f-bfe1-42db-a800-21f06d61dc8f",
   "metadata": {},
   "outputs": [],
   "source": [
    " personal_data = [\n",
    "    ('이은수', 22),\n",
    "    ('마동석', 52),\n",
    "    ('이순재', 89),\n",
    "    ('찰리 푸스', 33),\n",
    "    ('최정훈', 32),\n",
    "    ('유재석', 52),\n",
    "    ('오지율', 9)\n",
    "]"
   ]
  },
  {
   "cell_type": "code",
   "execution_count": 3,
   "id": "18a8690b-46ba-486e-ab45-7da22e4b6cee",
   "metadata": {},
   "outputs": [],
   "source": [
    "per_Schema = ['name' , 'age']\n",
    "df_per = spark.createDataFrame(data =  personal_data , schema = per_Schema)"
   ]
  },
  {
   "cell_type": "code",
   "execution_count": 4,
   "id": "e290b1ea-7775-4550-a585-8bda563d0b96",
   "metadata": {},
   "outputs": [
    {
     "name": "stdout",
     "output_type": "stream",
     "text": [
      "+---------+---+\n",
      "|     name|age|\n",
      "+---------+---+\n",
      "|   이은수| 22|\n",
      "|   마동석| 52|\n",
      "|   이순재| 89|\n",
      "|찰리 푸스| 33|\n",
      "|   최정훈| 32|\n",
      "|   유재석| 52|\n",
      "|   오지율|  9|\n",
      "+---------+---+\n",
      "\n"
     ]
    }
   ],
   "source": [
    "df_per.show()"
   ]
  },
  {
   "cell_type": "code",
   "execution_count": 5,
   "id": "5728f9f8-d945-46df-b46b-bfe670e29913",
   "metadata": {},
   "outputs": [
    {
     "name": "stdout",
     "output_type": "stream",
     "text": [
      "root\n",
      " |-- name: string (nullable = true)\n",
      " |-- age: long (nullable = true)\n",
      "\n"
     ]
    }
   ],
   "source": [
    "df_per.printSchema()"
   ]
  },
  {
   "cell_type": "code",
   "execution_count": 6,
   "id": "18313aac-f612-44b6-9982-893d73bcee03",
   "metadata": {},
   "outputs": [],
   "source": [
    "df_per.createOrReplaceTempView('personal_data')"
   ]
  },
  {
   "cell_type": "code",
   "execution_count": 7,
   "id": "e78f3055-048e-4f35-8ce8-992c6ab0e735",
   "metadata": {},
   "outputs": [],
   "source": [
    "from pyspark.sql.functions import udf"
   ]
  },
  {
   "cell_type": "code",
   "execution_count": 8,
   "id": "be51e497-1c7a-437d-9426-9902d79d5e43",
   "metadata": {},
   "outputs": [],
   "source": [
    "def age_category(age):\n",
    "    if age < 35 :   #35세 미만\n",
    "        age = 'young'\n",
    "    elif age >= 35 and age <= 59 : #35세 이상 59세 이하\n",
    "        age = 'adult'\n",
    "    elif age >= 60 :  #60세 이상 \n",
    "        age = 'senior'\n",
    "    return age"
   ]
  },
  {
   "cell_type": "code",
   "execution_count": 9,
   "id": "88cca7e8-0a48-4a5e-831d-5287df56fedd",
   "metadata": {},
   "outputs": [
    {
     "data": {
      "text/plain": [
       "<function __main__.age_category(age)>"
      ]
     },
     "execution_count": 9,
     "metadata": {},
     "output_type": "execute_result"
    }
   ],
   "source": [
    "spark.udf.register('age_category', age_category)"
   ]
  },
  {
   "cell_type": "code",
   "execution_count": 13,
   "id": "c6b630b0-159b-4da9-8e6a-6cf4be53b01a",
   "metadata": {},
   "outputs": [
    {
     "name": "stdout",
     "output_type": "stream",
     "text": [
      "+---------+------------+\n",
      "|     name|age_category|\n",
      "+---------+------------+\n",
      "|   이은수|       young|\n",
      "|   마동석|       adult|\n",
      "|   이순재|      senior|\n",
      "|찰리 푸스|       young|\n",
      "|   최정훈|       young|\n",
      "|   유재석|       adult|\n",
      "|   오지율|       young|\n",
      "+---------+------------+\n",
      "\n"
     ]
    }
   ],
   "source": [
    "spark.sql(\"SELECT name, age_category(age) AS age_category FROM personal_data\").show()"
   ]
  }
 ],
 "metadata": {
  "kernelspec": {
   "display_name": "Python 3",
   "language": "python",
   "name": "python3"
  },
  "language_info": {
   "codemirror_mode": {
    "name": "ipython",
    "version": 3
   },
   "file_extension": ".py",
   "mimetype": "text/x-python",
   "name": "python",
   "nbconvert_exporter": "python",
   "pygments_lexer": "ipython3",
   "version": "3.8.8"
  }
 },
 "nbformat": 4,
 "nbformat_minor": 5
}
